{
 "cells": [
  {
   "cell_type": "markdown",
   "id": "ebaeefdf",
   "metadata": {},
   "source": [
    "# Evaluer les incertitudes dans un TP de physique\n",
    "## I Position du problème\n",
    "La physique est une science expérimentale. Les expériences visent à confirmer ou infirmer un modèle théorique. Pour cela il faut pouvoir faire des mesures et les comparer avec des résultats attendus ce qui nécessite de connaitre la confiance accordée aux mesures. \n",
    "## II Vocabulaire \n",
    "### 1- Erreur systématique\n",
    "C'est une erreur qui est toujours dans le même sens, elle peut etre liée soit à un protocole expérimental non juste (exempel : montage longue ou courte dérivation pour mesurer une résuistance avec un voltmètre et un ampréremètre) soit à un instrument de mesure faux (mal calibré, endommagée... par exemple une montre qui avance)\n",
    "Ce type de mesure est difficile à éliminer, il faut améliorer le processus expérimental : protocole plus adapté, instrument de mesure plus juste.\n",
    "### 2- Erreur aléatoire\n",
    "Les instruments de mesure et les expérimentateurs n'étaient jamais parfaits, la mesure est intrinsèquement variable et lorsqu'on la répère on ne retrouve pas toujours la même valeur. Il faut alors avoir une idée de la **dispersion de la mesure**, on évaluera un écart-type et on parlera d'incertitude type, qui permettra de valider l'accord entre modèle et théorie avec un **écart normalisé** (cf suite du document pour des définitions de ces 2 notions)\n",
    "### 3- Incertitude de type A\n",
    "C'est une incertitude statistique, évaluée à partir d'une série de mesures de la même grandeur. \n",
    "### 4-Incertitude de type B\n",
    "Lorsque la mesure ne peut pas être renouvellée un nombre suffisant de fois, ou lorsque la variabilité de la mesure n'apparait pas (instrument de mesure trop grossier par exemple) on évalue l'incertitude à partir des caractéristiques de l'instrument de mesure.\n"
   ]
  },
  {
   "cell_type": "markdown",
   "id": "94aba4c5",
   "metadata": {},
   "source": [
    "![test](erreurs.png \"\")"
   ]
  },
  {
   "cell_type": "markdown",
   "id": "c91e2b99",
   "metadata": {},
   "source": [
    "## Incertitude de type A : évaluation de l'écart-type, loi normale\n",
    "\n",
    "Lorsque le nombre de mesure augmente, la plupart des mesures suivent une loi normale (on parle de \"loi des grands nombres\". On caractérise alors la distributionn des mesures par une moyenne et un écart-type.\n",
    "\n",
    "Pour $N$ mesures indépendantes on montre que la meilleure évaluation des valeurs de la moyenne et de l'écart-type correspond à : #\n",
    "\n",
    "$$\\overline{x}=\\frac{\\sum_{i=1}^N x_i}{N}$$\n",
    "\n",
    "$$u(x)=\\sqrt{\\frac{\\sum_{i=1}^N (x_i-\\overline{x})^2}{N-1}}$$\n",
    "\n",
    "C'est ce que calculent les calculatrices ou les tableurs (excell par ex)\n",
    "\n",
    "Statistiquement 68% des mesures seront comprises dans l'intervalle $[\\overline(x)-u(x),\\overline(x)+u(x)]$\n",
    "\n",
    "Il faut élargir l'intervalle à 2 écart-types pour avoir 95% des mesures, c'est ce qu'on fera dans la suite. \n",
    "\n",
    "Remarque : en toute rigueur ces résultats ne sont valables que si $N\\rightarrow \\infty$, sinon il faut multiplier par des coeffcients de Student, ce qui dépasse largement les connaissances que vous devez avoir sur le sujet et au delà de $N=10$ on peut considérer que la règle simple suffit.\n",
    "\n",
    "Nous allons **simuler une loi normale et construire un histogramme** en utilisant un code Python"
   ]
  },
  {
   "cell_type": "code",
   "execution_count": 4,
   "id": "f1a52683",
   "metadata": {},
   "outputs": [
    {
     "name": "stdout",
     "output_type": "stream",
     "text": [
      "moyenne expérimentale = 2.503970375592536\n",
      "écart type expériemtal= 0.5059365931734969\n"
     ]
    },
    {
     "data": {
      "image/png": "[encoded data removed]",
      "text/plain": [
       "<Figure size 432x288 with 1 Axes>"
      ]
     },
     "metadata": {
      "needs_background": "light"
     },
     "output_type": "display_data"
    }
   ],
   "source": [
    "import random\n",
    "import statistics\n",
    "import matplotlib.pyplot as plt\n",
    "x=[]\n",
    "N=10000 # nombre de mesures\n",
    "m=2.5 # moyenne visée\n",
    "sigma=0.5 #écart type visé\n",
    "\n",
    "for i in range (1,N+1):\n",
    "    x.append(random.gauss(m,sigma)) #gaussienne(moyenne, écart type)\n",
    "\n",
    "plt.hist(x,bins=100,range=(0.,5.))\n",
    "plt.title(\"Histogramme loi gaussienne\")\n",
    "me=statistics.mean(x)# moyenne expérimentale des x\n",
    "print('moyenne expérimentale =',me)\n",
    "sigmae=statistics.pstdev(x) #écart type expériemtal de x\n",
    "print('écart type expériemtal=',sigmae)"
   ]
  },
  {
   "cell_type": "markdown",
   "id": "58758902",
   "metadata": {},
   "source": [
    "La statistique de la moyenne est plus intéressante, nous allons vérifier numériquement que l'écart type des valeurs moyenne est réduite d'un facteur $\\sqrt{N}$. Attention le programme suivant est assez long à exécuter..."
   ]
  },
  {
   "cell_type": "code",
   "execution_count": null,
   "id": "bfdb0804",
   "metadata": {},
   "outputs": [],
   "source": [
    "\n",
    "from math import sqrt\n",
    "\n",
    "p=200 #nombre de séries de mesures\n",
    "\n",
    "mo=[]\n",
    "\n",
    "for j in range(1,p+1):\n",
    "    x=[]\n",
    "    for i in range (1,N+1):\n",
    "        x.append(random.gauss(m,sigma)) #série i : gaussienne(moyenne, écart type)\n",
    "        mi=statistics.mean(x) #moyenne de la série i\n",
    "    mo.append(mi)# liste des moyennes expérimentales     \n",
    "    \n",
    "print(mo)\n",
    "\n",
    "plt.hist(mo,bins=50,range=(2.4,2.6)) #histogramme des moyennes\n",
    "plt.title(\"histogramme des moyennes\")\n",
    "\n",
    "sigmamoy=statistics.pstdev(mo) #écart type expériemtal des moyennes\n",
    "sigmamoye=sigma/sqrt(N) # écart type theorique des moyennes\n",
    "print('écart type expériemtal des moyennes=',sigmamoy,'sigma/sqrt(n)=',sigmamoye)"
   ]
  },
  {
   "cell_type": "markdown",
   "id": "404f88d8",
   "metadata": {},
   "source": [
    "On aura donc intérêt à réaliser $N$ fois la même mesure pour réduire l'intervalle de pertinence du résultat, mais cela prend plus de temps...il faudra trouver un compromis acceptable ! "
   ]
  },
  {
   "cell_type": "markdown",
   "id": "481a812d",
   "metadata": {},
   "source": [
    "## Incertitude de type B, loi uniforme\n",
    "Lorsqu'on ne fait qu'une seule mesure expérimentale notée $m$, ou lorsque les différentes mesures réalisées conduisent toujours au même résultat $m$ car la précision de l'instrument de mesure ne permet pas de mettre en évidence les fluctuations de la mesure, on procède différemment pour évaluer l'incertitude-type.\n",
    "On considèrera souvent que la mesure est raisonnablement comprise dans un intervalle $m-\\Delta, m+\\Delta$, la valeur de $\\Delta$ s'évalue soit expérimentalemenyt soit à partir des caractéristiques de l'intrument de mesure utilisé., avec une loi de probabilité uniforme.\n",
    "On admet, et on va vérifier numériquement, que l'incertitude-type est donnée par \n",
    "$$u=\\frac{\\Delta}{\\sqrt{3}}$$"
   ]
  },
  {
   "cell_type": "code",
   "execution_count": 7,
   "id": "412fc309",
   "metadata": {},
   "outputs": [
    {
     "name": "stdout",
     "output_type": "stream",
     "text": [
      "moyenne expérimentale = 2.506619730260149\n",
      "écart type expériemtal= 0.2947876747131415 Delta/sqrt(3) = 0.2886751345948129\n"
     ]
    },
    {
     "data": {
      "image/png": "[encoded data removed]",
      "text/plain": [
       "<Figure size 432x288 with 1 Axes>"
      ]
     },
     "metadata": {
      "needs_background": "light"
     },
     "output_type": "display_data"
    }
   ],
   "source": [
    "x=[]\n",
    "\n",
    "Nu=1000 # nombre de mesures\n",
    "mu=2.5 # moyenne visée\n",
    "Delta=0.5 #demi-largeur de l'intervalle\n",
    "\n",
    "\n",
    "for i in range (1,Nu+1):\n",
    "    x.append(random.uniform(mu-Delta, mu+Delta)) #distribution uniforme entre m-sigma et m+sigma\n",
    "\n",
    "plt.hist(x,bins=100,range=(0.,5.))\n",
    "plt.title(\"Histogramme loi uniforme\")\n",
    "\n",
    "me=statistics.mean(x)# moyenne expérimentale des x\n",
    "print('moyenne expérimentale =',me)\n",
    "sigmae=statistics.pstdev(x) #écart type expériemtal de x\n",
    "sigmath=sigmau/sqrt(3) #écart type théorique de x\n",
    "print('écart type expériemtal=',sigmae,'Delta/sqrt(3) =',sigmath\n",
    "      )"
   ]
  },
  {
   "cell_type": "markdown",
   "id": "42734244",
   "metadata": {},
   "source": [
    "## Propagation des incertitudes\n",
    "Lorsqu'une grandeur expérimentale $y$ est calculée à partir de la mesure de plusieurs autres grandeurs $x_i$ avec $y=f(x_1, x_2..)$, plusieurs cas se présentent :\n",
    "- cas favorable, assez courant : une des grandeurs, par exemple $x_1$, est entachée d'une plus grande incertitude que les autres, c'est celle qui va limiter la précision de la mesure et on pourra écrire :\n",
    "\n",
    "$$u(y)=|\\frac{\\partial f}{\\partial y_1}|u(x_1)$$\n",
    "- cas plus pénible : plusieurs grandeurs sont antéchées d'erreurs relatives du même ordre de grandeur, alors on montre que \n",
    "\n",
    "$$u(y)=\\sqrt{\\sum_i (\\frac{\\partial f}{\\partial y_i})^2 u(x_i)^2}$$\n",
    "\n",
    "Il faut donc calculer cette somme.\n",
    "On peut aussi proécder avec une simulation numérique de MonteCarlo en créant une fluctuation aléatoire des différentes variables $x_i$ pour évaluer l'écart type sur $x$.\n",
    "Un exmeple de ce type de calcul suit, pour la mesure de la focale d'une lentille mince convergente à partir de la position d'un objet et de son image, on voit que la simulation est pertinente par rapport à la formule explicite, on pourra donc utiliser cette méthode lorsque les calculs sont compliqués.\n"
   ]
  },
  {
   "cell_type": "code",
   "execution_count": 10,
   "id": "bb788873",
   "metadata": {},
   "outputs": [
    {
     "name": "stdout",
     "output_type": "stream",
     "text": [
      "focale expérimentale= 9.99132173674576 focale théorique= 10.0\n",
      "écart-type Montecarlo= 0.13134826637026611 écart-type théorique= 0.12747548783981963\n"
     ]
    }
   ],
   "source": [
    "import numpy as np\n",
    "\n",
    "Po=[] #liste des positions de l'objet\n",
    "Pi=[] #liste des positions de l'image\n",
    "Fo=[] # liste des focales déduites de po et pi\n",
    "\n",
    "n=100 #nombre de mesures\n",
    "moy_po=-20.0 # valeur moyenne de po\n",
    "ecart_type_po=0.1 #ecart type de la mesure de po\n",
    "moy_pi=20.# valeur moyenne de pi\n",
    "ecart_type_pi=0.5 #ecart type de la mesure de pi\n",
    "\n",
    "for i in range (0,n):\n",
    "    po=random.gauss(moy_po,ecart_type_po) #simule une mesure suivant une loi gaussienne\n",
    "    pi=random.gauss(moy_pi,ecart_type_pi)\n",
    "    f=po*pi/(po-pi)\n",
    "    Po.append(po)\n",
    "    Pi.append(pi)\n",
    "    Fo.append(f)\n",
    "    \n",
    "f_moy=statistics.mean(Fo)\n",
    "f_th=moy_po*moy_pi/(moy_po-moy_pi)\n",
    "print('focale expérimentale=',f_moy,'focale théorique=',f_th)\n",
    "\n",
    "sigmaf=statistics.pstdev(Fo)#écart type expérimental\n",
    "sigmaf_th=(np.sqrt((moy_pi**4)*(ecart_type_po)**2+(moy_po**4)*(ecart_type_pi)**2))/((moy_po-moy_pi)**2)# calcul theorique de l'erreur\n",
    "print('écart-type Montecarlo=', sigmaf,'écart-type théorique=',sigmaf_th)"
   ]
  },
  {
   "cell_type": "code",
   "execution_count": null,
   "id": "8d9867e7",
   "metadata": {},
   "outputs": [],
   "source": []
  },
  {
   "cell_type": "code",
   "execution_count": null,
   "id": "d51fa732",
   "metadata": {},
   "outputs": [],
   "source": []
  }
 ],
 "metadata": {
  "kernelspec": {
   "display_name": "Python 3 (ipykernel)",
   "language": "python",
   "name": "python3"
  },
  "language_info": {
   "codemirror_mode": {
    "name": "ipython",
    "version": 3
   },
   "file_extension": ".py",
   "mimetype": "text/x-python",
   "name": "python",
   "nbconvert_exporter": "python",
   "pygments_lexer": "ipython3",
   "version": "3.9.12"
  },
  "vscode": {
   "interpreter": {
    "hash": "e8ff6d6f699d577dbfc77241a0644abf4ad441923315ad718e127a3b5d3477b4"
   }
  }
 },
 "nbformat": 4,
 "nbformat_minor": 5
}
